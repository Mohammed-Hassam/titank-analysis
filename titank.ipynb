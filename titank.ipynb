{
  "nbformat": 4,
  "nbformat_minor": 0,
  "metadata": {
    "colab": {
      "name": "titank.ipynb",
      "provenance": [],
      "collapsed_sections": []
    },
    "kernelspec": {
      "name": "python3",
      "display_name": "Python 3"
    },
    "language_info": {
      "name": "python"
    }
  },
  "cells": [
    {
      "cell_type": "code",
      "metadata": {
        "id": "-ZnlvMEOgJwM"
      },
      "source": [
        "import pandas as pd\n",
        "import matplotlib.pyplot as plt\n",
        "plt.style.use('ggplot')\n",
        "import numpy as np\n",
        "np.random.seed(123456)\n"
      ],
      "execution_count": null,
      "outputs": []
    },
    {
      "cell_type": "code",
      "metadata": {
        "id": "gh-1mkxvvImP"
      },
      "source": [
        "titank = pd.read_csv(\"titanic_data.csv\")"
      ],
      "execution_count": null,
      "outputs": []
    },
    {
      "cell_type": "code",
      "metadata": {
        "id": "ULTJjxBiZ0y1",
        "colab": {
          "base_uri": "https://localhost:8080/",
          "height": 204
        },
        "outputId": "6b0dafae-97be-4696-bd74-1be41b77b7da"
      },
      "source": [
        "titank.head()"
      ],
      "execution_count": null,
      "outputs": [
        {
          "output_type": "execute_result",
          "data": {
            "text/html": [
              "<div>\n",
              "<style scoped>\n",
              "    .dataframe tbody tr th:only-of-type {\n",
              "        vertical-align: middle;\n",
              "    }\n",
              "\n",
              "    .dataframe tbody tr th {\n",
              "        vertical-align: top;\n",
              "    }\n",
              "\n",
              "    .dataframe thead th {\n",
              "        text-align: right;\n",
              "    }\n",
              "</style>\n",
              "<table border=\"1\" class=\"dataframe\">\n",
              "  <thead>\n",
              "    <tr style=\"text-align: right;\">\n",
              "      <th></th>\n",
              "      <th>PassengerId</th>\n",
              "      <th>Survived</th>\n",
              "      <th>Pclass</th>\n",
              "      <th>Name</th>\n",
              "      <th>Sex</th>\n",
              "      <th>Age</th>\n",
              "      <th>SibSp</th>\n",
              "      <th>Parch</th>\n",
              "      <th>Ticket</th>\n",
              "      <th>Fare</th>\n",
              "      <th>Cabin</th>\n",
              "      <th>Embarked</th>\n",
              "    </tr>\n",
              "  </thead>\n",
              "  <tbody>\n",
              "    <tr>\n",
              "      <th>0</th>\n",
              "      <td>1</td>\n",
              "      <td>0</td>\n",
              "      <td>3</td>\n",
              "      <td>Braund, Mr. Owen Harris</td>\n",
              "      <td>male</td>\n",
              "      <td>22.0</td>\n",
              "      <td>1</td>\n",
              "      <td>0</td>\n",
              "      <td>A/5 21171</td>\n",
              "      <td>7.2500</td>\n",
              "      <td>NaN</td>\n",
              "      <td>S</td>\n",
              "    </tr>\n",
              "    <tr>\n",
              "      <th>1</th>\n",
              "      <td>2</td>\n",
              "      <td>1</td>\n",
              "      <td>1</td>\n",
              "      <td>Cumings, Mrs. John Bradley (Florence Briggs Th...</td>\n",
              "      <td>female</td>\n",
              "      <td>38.0</td>\n",
              "      <td>1</td>\n",
              "      <td>0</td>\n",
              "      <td>PC 17599</td>\n",
              "      <td>71.2833</td>\n",
              "      <td>C85</td>\n",
              "      <td>C</td>\n",
              "    </tr>\n",
              "    <tr>\n",
              "      <th>2</th>\n",
              "      <td>3</td>\n",
              "      <td>1</td>\n",
              "      <td>3</td>\n",
              "      <td>Heikkinen, Miss. Laina</td>\n",
              "      <td>female</td>\n",
              "      <td>26.0</td>\n",
              "      <td>0</td>\n",
              "      <td>0</td>\n",
              "      <td>STON/O2. 3101282</td>\n",
              "      <td>7.9250</td>\n",
              "      <td>NaN</td>\n",
              "      <td>S</td>\n",
              "    </tr>\n",
              "    <tr>\n",
              "      <th>3</th>\n",
              "      <td>4</td>\n",
              "      <td>1</td>\n",
              "      <td>1</td>\n",
              "      <td>Futrelle, Mrs. Jacques Heath (Lily May Peel)</td>\n",
              "      <td>female</td>\n",
              "      <td>35.0</td>\n",
              "      <td>1</td>\n",
              "      <td>0</td>\n",
              "      <td>113803</td>\n",
              "      <td>53.1000</td>\n",
              "      <td>C123</td>\n",
              "      <td>S</td>\n",
              "    </tr>\n",
              "    <tr>\n",
              "      <th>4</th>\n",
              "      <td>5</td>\n",
              "      <td>0</td>\n",
              "      <td>3</td>\n",
              "      <td>Allen, Mr. William Henry</td>\n",
              "      <td>male</td>\n",
              "      <td>35.0</td>\n",
              "      <td>0</td>\n",
              "      <td>0</td>\n",
              "      <td>373450</td>\n",
              "      <td>8.0500</td>\n",
              "      <td>NaN</td>\n",
              "      <td>S</td>\n",
              "    </tr>\n",
              "  </tbody>\n",
              "</table>\n",
              "</div>"
            ],
            "text/plain": [
              "   PassengerId  Survived  Pclass  ...     Fare Cabin  Embarked\n",
              "0            1         0       3  ...   7.2500   NaN         S\n",
              "1            2         1       1  ...  71.2833   C85         C\n",
              "2            3         1       3  ...   7.9250   NaN         S\n",
              "3            4         1       1  ...  53.1000  C123         S\n",
              "4            5         0       3  ...   8.0500   NaN         S\n",
              "\n",
              "[5 rows x 12 columns]"
            ]
          },
          "metadata": {
            "tags": []
          },
          "execution_count": 3
        }
      ]
    },
    {
      "cell_type": "code",
      "metadata": {
        "colab": {
          "base_uri": "https://localhost:8080/"
        },
        "id": "7w3tYveOps4o",
        "outputId": "45a4f7e6-682a-4837-a9d2-0363ffd567a5"
      },
      "source": [
        "titank[\"Survived\"].describe()"
      ],
      "execution_count": null,
      "outputs": [
        {
          "output_type": "execute_result",
          "data": {
            "text/plain": [
              "count    891.000000\n",
              "mean       0.383838\n",
              "std        0.486592\n",
              "min        0.000000\n",
              "25%        0.000000\n",
              "50%        0.000000\n",
              "75%        1.000000\n",
              "max        1.000000\n",
              "Name: Survived, dtype: float64"
            ]
          },
          "metadata": {
            "tags": []
          },
          "execution_count": 4
        }
      ]
    },
    {
      "cell_type": "code",
      "metadata": {
        "id": "w95bVYHxrd6m"
      },
      "source": [
        "titank[['husband','wife']] = titank.Name.str.split(\",\",expand=True)\n",
        "\n",
        "del titank[\"Name\"]\n"
      ],
      "execution_count": null,
      "outputs": []
    },
    {
      "cell_type": "code",
      "metadata": {
        "colab": {
          "base_uri": "https://localhost:8080/",
          "height": 204
        },
        "id": "gG4X5W6h-DXW",
        "outputId": "81e976ca-5c45-4855-ec70-577fe1c45335"
      },
      "source": [
        "titank.head()"
      ],
      "execution_count": null,
      "outputs": [
        {
          "output_type": "execute_result",
          "data": {
            "text/html": [
              "<div>\n",
              "<style scoped>\n",
              "    .dataframe tbody tr th:only-of-type {\n",
              "        vertical-align: middle;\n",
              "    }\n",
              "\n",
              "    .dataframe tbody tr th {\n",
              "        vertical-align: top;\n",
              "    }\n",
              "\n",
              "    .dataframe thead th {\n",
              "        text-align: right;\n",
              "    }\n",
              "</style>\n",
              "<table border=\"1\" class=\"dataframe\">\n",
              "  <thead>\n",
              "    <tr style=\"text-align: right;\">\n",
              "      <th></th>\n",
              "      <th>PassengerId</th>\n",
              "      <th>Survived</th>\n",
              "      <th>Pclass</th>\n",
              "      <th>Sex</th>\n",
              "      <th>Age</th>\n",
              "      <th>SibSp</th>\n",
              "      <th>Parch</th>\n",
              "      <th>Ticket</th>\n",
              "      <th>Fare</th>\n",
              "      <th>Cabin</th>\n",
              "      <th>Embarked</th>\n",
              "      <th>husband</th>\n",
              "      <th>wife</th>\n",
              "    </tr>\n",
              "  </thead>\n",
              "  <tbody>\n",
              "    <tr>\n",
              "      <th>0</th>\n",
              "      <td>1</td>\n",
              "      <td>0</td>\n",
              "      <td>3</td>\n",
              "      <td>male</td>\n",
              "      <td>22.0</td>\n",
              "      <td>1</td>\n",
              "      <td>0</td>\n",
              "      <td>A/5 21171</td>\n",
              "      <td>7.2500</td>\n",
              "      <td>NaN</td>\n",
              "      <td>S</td>\n",
              "      <td>Braund</td>\n",
              "      <td>Mr. Owen Harris</td>\n",
              "    </tr>\n",
              "    <tr>\n",
              "      <th>1</th>\n",
              "      <td>2</td>\n",
              "      <td>1</td>\n",
              "      <td>1</td>\n",
              "      <td>female</td>\n",
              "      <td>38.0</td>\n",
              "      <td>1</td>\n",
              "      <td>0</td>\n",
              "      <td>PC 17599</td>\n",
              "      <td>71.2833</td>\n",
              "      <td>C85</td>\n",
              "      <td>C</td>\n",
              "      <td>Cumings</td>\n",
              "      <td>Mrs. John Bradley (Florence Briggs Thayer)</td>\n",
              "    </tr>\n",
              "    <tr>\n",
              "      <th>2</th>\n",
              "      <td>3</td>\n",
              "      <td>1</td>\n",
              "      <td>3</td>\n",
              "      <td>female</td>\n",
              "      <td>26.0</td>\n",
              "      <td>0</td>\n",
              "      <td>0</td>\n",
              "      <td>STON/O2. 3101282</td>\n",
              "      <td>7.9250</td>\n",
              "      <td>NaN</td>\n",
              "      <td>S</td>\n",
              "      <td>Heikkinen</td>\n",
              "      <td>Miss. Laina</td>\n",
              "    </tr>\n",
              "    <tr>\n",
              "      <th>3</th>\n",
              "      <td>4</td>\n",
              "      <td>1</td>\n",
              "      <td>1</td>\n",
              "      <td>female</td>\n",
              "      <td>35.0</td>\n",
              "      <td>1</td>\n",
              "      <td>0</td>\n",
              "      <td>113803</td>\n",
              "      <td>53.1000</td>\n",
              "      <td>C123</td>\n",
              "      <td>S</td>\n",
              "      <td>Futrelle</td>\n",
              "      <td>Mrs. Jacques Heath (Lily May Peel)</td>\n",
              "    </tr>\n",
              "    <tr>\n",
              "      <th>4</th>\n",
              "      <td>5</td>\n",
              "      <td>0</td>\n",
              "      <td>3</td>\n",
              "      <td>male</td>\n",
              "      <td>35.0</td>\n",
              "      <td>0</td>\n",
              "      <td>0</td>\n",
              "      <td>373450</td>\n",
              "      <td>8.0500</td>\n",
              "      <td>NaN</td>\n",
              "      <td>S</td>\n",
              "      <td>Allen</td>\n",
              "      <td>Mr. William Henry</td>\n",
              "    </tr>\n",
              "  </tbody>\n",
              "</table>\n",
              "</div>"
            ],
            "text/plain": [
              "   PassengerId  ...                                         wife\n",
              "0            1  ...                              Mr. Owen Harris\n",
              "1            2  ...   Mrs. John Bradley (Florence Briggs Thayer)\n",
              "2            3  ...                                  Miss. Laina\n",
              "3            4  ...           Mrs. Jacques Heath (Lily May Peel)\n",
              "4            5  ...                            Mr. William Henry\n",
              "\n",
              "[5 rows x 13 columns]"
            ]
          },
          "metadata": {
            "tags": []
          },
          "execution_count": 6
        }
      ]
    },
    {
      "cell_type": "code",
      "metadata": {
        "id": "vYle0EoK-UaN"
      },
      "source": [
        "\n",
        "titank = titank.dropna(how='any',axis=0) \n"
      ],
      "execution_count": null,
      "outputs": []
    },
    {
      "cell_type": "code",
      "metadata": {
        "colab": {
          "base_uri": "https://localhost:8080/",
          "height": 204
        },
        "id": "0Zm_Wl_fAxzX",
        "outputId": "72f714c3-ad27-41fc-f425-ce77f8e34dae"
      },
      "source": [
        "titank.head()"
      ],
      "execution_count": null,
      "outputs": [
        {
          "output_type": "execute_result",
          "data": {
            "text/html": [
              "<div>\n",
              "<style scoped>\n",
              "    .dataframe tbody tr th:only-of-type {\n",
              "        vertical-align: middle;\n",
              "    }\n",
              "\n",
              "    .dataframe tbody tr th {\n",
              "        vertical-align: top;\n",
              "    }\n",
              "\n",
              "    .dataframe thead th {\n",
              "        text-align: right;\n",
              "    }\n",
              "</style>\n",
              "<table border=\"1\" class=\"dataframe\">\n",
              "  <thead>\n",
              "    <tr style=\"text-align: right;\">\n",
              "      <th></th>\n",
              "      <th>PassengerId</th>\n",
              "      <th>Survived</th>\n",
              "      <th>Pclass</th>\n",
              "      <th>Sex</th>\n",
              "      <th>Age</th>\n",
              "      <th>SibSp</th>\n",
              "      <th>Parch</th>\n",
              "      <th>Ticket</th>\n",
              "      <th>Fare</th>\n",
              "      <th>Cabin</th>\n",
              "      <th>Embarked</th>\n",
              "      <th>husband</th>\n",
              "      <th>wife</th>\n",
              "    </tr>\n",
              "  </thead>\n",
              "  <tbody>\n",
              "    <tr>\n",
              "      <th>1</th>\n",
              "      <td>2</td>\n",
              "      <td>1</td>\n",
              "      <td>1</td>\n",
              "      <td>female</td>\n",
              "      <td>38.0</td>\n",
              "      <td>1</td>\n",
              "      <td>0</td>\n",
              "      <td>PC 17599</td>\n",
              "      <td>71.2833</td>\n",
              "      <td>C85</td>\n",
              "      <td>C</td>\n",
              "      <td>Cumings</td>\n",
              "      <td>Mrs. John Bradley (Florence Briggs Thayer)</td>\n",
              "    </tr>\n",
              "    <tr>\n",
              "      <th>3</th>\n",
              "      <td>4</td>\n",
              "      <td>1</td>\n",
              "      <td>1</td>\n",
              "      <td>female</td>\n",
              "      <td>35.0</td>\n",
              "      <td>1</td>\n",
              "      <td>0</td>\n",
              "      <td>113803</td>\n",
              "      <td>53.1000</td>\n",
              "      <td>C123</td>\n",
              "      <td>S</td>\n",
              "      <td>Futrelle</td>\n",
              "      <td>Mrs. Jacques Heath (Lily May Peel)</td>\n",
              "    </tr>\n",
              "    <tr>\n",
              "      <th>6</th>\n",
              "      <td>7</td>\n",
              "      <td>0</td>\n",
              "      <td>1</td>\n",
              "      <td>male</td>\n",
              "      <td>54.0</td>\n",
              "      <td>0</td>\n",
              "      <td>0</td>\n",
              "      <td>17463</td>\n",
              "      <td>51.8625</td>\n",
              "      <td>E46</td>\n",
              "      <td>S</td>\n",
              "      <td>McCarthy</td>\n",
              "      <td>Mr. Timothy J</td>\n",
              "    </tr>\n",
              "    <tr>\n",
              "      <th>10</th>\n",
              "      <td>11</td>\n",
              "      <td>1</td>\n",
              "      <td>3</td>\n",
              "      <td>female</td>\n",
              "      <td>4.0</td>\n",
              "      <td>1</td>\n",
              "      <td>1</td>\n",
              "      <td>PP 9549</td>\n",
              "      <td>16.7000</td>\n",
              "      <td>G6</td>\n",
              "      <td>S</td>\n",
              "      <td>Sandstrom</td>\n",
              "      <td>Miss. Marguerite Rut</td>\n",
              "    </tr>\n",
              "    <tr>\n",
              "      <th>11</th>\n",
              "      <td>12</td>\n",
              "      <td>1</td>\n",
              "      <td>1</td>\n",
              "      <td>female</td>\n",
              "      <td>58.0</td>\n",
              "      <td>0</td>\n",
              "      <td>0</td>\n",
              "      <td>113783</td>\n",
              "      <td>26.5500</td>\n",
              "      <td>C103</td>\n",
              "      <td>S</td>\n",
              "      <td>Bonnell</td>\n",
              "      <td>Miss. Elizabeth</td>\n",
              "    </tr>\n",
              "  </tbody>\n",
              "</table>\n",
              "</div>"
            ],
            "text/plain": [
              "    PassengerId  ...                                         wife\n",
              "1             2  ...   Mrs. John Bradley (Florence Briggs Thayer)\n",
              "3             4  ...           Mrs. Jacques Heath (Lily May Peel)\n",
              "6             7  ...                                Mr. Timothy J\n",
              "10           11  ...                         Miss. Marguerite Rut\n",
              "11           12  ...                              Miss. Elizabeth\n",
              "\n",
              "[5 rows x 13 columns]"
            ]
          },
          "metadata": {
            "tags": []
          },
          "execution_count": 8
        }
      ]
    },
    {
      "cell_type": "code",
      "metadata": {
        "colab": {
          "base_uri": "https://localhost:8080/"
        },
        "id": "LBdAcg_BFK1g",
        "outputId": "e35c7ae9-f57c-4098-f613-6dd4655c2924"
      },
      "source": [
        "print(\"Number of Passenger Now is :\", len(titank.index))"
      ],
      "execution_count": null,
      "outputs": [
        {
          "output_type": "stream",
          "text": [
            "Number of Passenger Now is : 183\n"
          ],
          "name": "stdout"
        }
      ]
    },
    {
      "cell_type": "code",
      "metadata": {
        "colab": {
          "base_uri": "https://localhost:8080/",
          "height": 419
        },
        "id": "66dL66F4R1Ww",
        "outputId": "0e11eb5f-490c-4402-faf3-22379d181593"
      },
      "source": [
        "titank.astype({\"Survived\":int})\n"
      ],
      "execution_count": null,
      "outputs": [
        {
          "output_type": "execute_result",
          "data": {
            "text/html": [
              "<div>\n",
              "<style scoped>\n",
              "    .dataframe tbody tr th:only-of-type {\n",
              "        vertical-align: middle;\n",
              "    }\n",
              "\n",
              "    .dataframe tbody tr th {\n",
              "        vertical-align: top;\n",
              "    }\n",
              "\n",
              "    .dataframe thead th {\n",
              "        text-align: right;\n",
              "    }\n",
              "</style>\n",
              "<table border=\"1\" class=\"dataframe\">\n",
              "  <thead>\n",
              "    <tr style=\"text-align: right;\">\n",
              "      <th></th>\n",
              "      <th>PassengerId</th>\n",
              "      <th>Survived</th>\n",
              "      <th>Pclass</th>\n",
              "      <th>Sex</th>\n",
              "      <th>Age</th>\n",
              "      <th>SibSp</th>\n",
              "      <th>Parch</th>\n",
              "      <th>Ticket</th>\n",
              "      <th>Fare</th>\n",
              "      <th>Cabin</th>\n",
              "      <th>Embarked</th>\n",
              "      <th>husband</th>\n",
              "      <th>wife</th>\n",
              "    </tr>\n",
              "  </thead>\n",
              "  <tbody>\n",
              "    <tr>\n",
              "      <th>1</th>\n",
              "      <td>2</td>\n",
              "      <td>1</td>\n",
              "      <td>1</td>\n",
              "      <td>female</td>\n",
              "      <td>38.0</td>\n",
              "      <td>1</td>\n",
              "      <td>0</td>\n",
              "      <td>PC 17599</td>\n",
              "      <td>71.2833</td>\n",
              "      <td>C85</td>\n",
              "      <td>C</td>\n",
              "      <td>Cumings</td>\n",
              "      <td>Mrs. John Bradley (Florence Briggs Thayer)</td>\n",
              "    </tr>\n",
              "    <tr>\n",
              "      <th>3</th>\n",
              "      <td>4</td>\n",
              "      <td>1</td>\n",
              "      <td>1</td>\n",
              "      <td>female</td>\n",
              "      <td>35.0</td>\n",
              "      <td>1</td>\n",
              "      <td>0</td>\n",
              "      <td>113803</td>\n",
              "      <td>53.1000</td>\n",
              "      <td>C123</td>\n",
              "      <td>S</td>\n",
              "      <td>Futrelle</td>\n",
              "      <td>Mrs. Jacques Heath (Lily May Peel)</td>\n",
              "    </tr>\n",
              "    <tr>\n",
              "      <th>6</th>\n",
              "      <td>7</td>\n",
              "      <td>0</td>\n",
              "      <td>1</td>\n",
              "      <td>male</td>\n",
              "      <td>54.0</td>\n",
              "      <td>0</td>\n",
              "      <td>0</td>\n",
              "      <td>17463</td>\n",
              "      <td>51.8625</td>\n",
              "      <td>E46</td>\n",
              "      <td>S</td>\n",
              "      <td>McCarthy</td>\n",
              "      <td>Mr. Timothy J</td>\n",
              "    </tr>\n",
              "    <tr>\n",
              "      <th>10</th>\n",
              "      <td>11</td>\n",
              "      <td>1</td>\n",
              "      <td>3</td>\n",
              "      <td>female</td>\n",
              "      <td>4.0</td>\n",
              "      <td>1</td>\n",
              "      <td>1</td>\n",
              "      <td>PP 9549</td>\n",
              "      <td>16.7000</td>\n",
              "      <td>G6</td>\n",
              "      <td>S</td>\n",
              "      <td>Sandstrom</td>\n",
              "      <td>Miss. Marguerite Rut</td>\n",
              "    </tr>\n",
              "    <tr>\n",
              "      <th>11</th>\n",
              "      <td>12</td>\n",
              "      <td>1</td>\n",
              "      <td>1</td>\n",
              "      <td>female</td>\n",
              "      <td>58.0</td>\n",
              "      <td>0</td>\n",
              "      <td>0</td>\n",
              "      <td>113783</td>\n",
              "      <td>26.5500</td>\n",
              "      <td>C103</td>\n",
              "      <td>S</td>\n",
              "      <td>Bonnell</td>\n",
              "      <td>Miss. Elizabeth</td>\n",
              "    </tr>\n",
              "    <tr>\n",
              "      <th>...</th>\n",
              "      <td>...</td>\n",
              "      <td>...</td>\n",
              "      <td>...</td>\n",
              "      <td>...</td>\n",
              "      <td>...</td>\n",
              "      <td>...</td>\n",
              "      <td>...</td>\n",
              "      <td>...</td>\n",
              "      <td>...</td>\n",
              "      <td>...</td>\n",
              "      <td>...</td>\n",
              "      <td>...</td>\n",
              "      <td>...</td>\n",
              "    </tr>\n",
              "    <tr>\n",
              "      <th>871</th>\n",
              "      <td>872</td>\n",
              "      <td>1</td>\n",
              "      <td>1</td>\n",
              "      <td>female</td>\n",
              "      <td>47.0</td>\n",
              "      <td>1</td>\n",
              "      <td>1</td>\n",
              "      <td>11751</td>\n",
              "      <td>52.5542</td>\n",
              "      <td>D35</td>\n",
              "      <td>S</td>\n",
              "      <td>Beckwith</td>\n",
              "      <td>Mrs. Richard Leonard (Sallie Monypeny)</td>\n",
              "    </tr>\n",
              "    <tr>\n",
              "      <th>872</th>\n",
              "      <td>873</td>\n",
              "      <td>0</td>\n",
              "      <td>1</td>\n",
              "      <td>male</td>\n",
              "      <td>33.0</td>\n",
              "      <td>0</td>\n",
              "      <td>0</td>\n",
              "      <td>695</td>\n",
              "      <td>5.0000</td>\n",
              "      <td>B51 B53 B55</td>\n",
              "      <td>S</td>\n",
              "      <td>Carlsson</td>\n",
              "      <td>Mr. Frans Olof</td>\n",
              "    </tr>\n",
              "    <tr>\n",
              "      <th>879</th>\n",
              "      <td>880</td>\n",
              "      <td>1</td>\n",
              "      <td>1</td>\n",
              "      <td>female</td>\n",
              "      <td>56.0</td>\n",
              "      <td>0</td>\n",
              "      <td>1</td>\n",
              "      <td>11767</td>\n",
              "      <td>83.1583</td>\n",
              "      <td>C50</td>\n",
              "      <td>C</td>\n",
              "      <td>Potter</td>\n",
              "      <td>Mrs. Thomas Jr (Lily Alexenia Wilson)</td>\n",
              "    </tr>\n",
              "    <tr>\n",
              "      <th>887</th>\n",
              "      <td>888</td>\n",
              "      <td>1</td>\n",
              "      <td>1</td>\n",
              "      <td>female</td>\n",
              "      <td>19.0</td>\n",
              "      <td>0</td>\n",
              "      <td>0</td>\n",
              "      <td>112053</td>\n",
              "      <td>30.0000</td>\n",
              "      <td>B42</td>\n",
              "      <td>S</td>\n",
              "      <td>Graham</td>\n",
              "      <td>Miss. Margaret Edith</td>\n",
              "    </tr>\n",
              "    <tr>\n",
              "      <th>889</th>\n",
              "      <td>890</td>\n",
              "      <td>1</td>\n",
              "      <td>1</td>\n",
              "      <td>male</td>\n",
              "      <td>26.0</td>\n",
              "      <td>0</td>\n",
              "      <td>0</td>\n",
              "      <td>111369</td>\n",
              "      <td>30.0000</td>\n",
              "      <td>C148</td>\n",
              "      <td>C</td>\n",
              "      <td>Behr</td>\n",
              "      <td>Mr. Karl Howell</td>\n",
              "    </tr>\n",
              "  </tbody>\n",
              "</table>\n",
              "<p>183 rows × 13 columns</p>\n",
              "</div>"
            ],
            "text/plain": [
              "     PassengerId  ...                                         wife\n",
              "1              2  ...   Mrs. John Bradley (Florence Briggs Thayer)\n",
              "3              4  ...           Mrs. Jacques Heath (Lily May Peel)\n",
              "6              7  ...                                Mr. Timothy J\n",
              "10            11  ...                         Miss. Marguerite Rut\n",
              "11            12  ...                              Miss. Elizabeth\n",
              "..           ...  ...                                          ...\n",
              "871          872  ...       Mrs. Richard Leonard (Sallie Monypeny)\n",
              "872          873  ...                               Mr. Frans Olof\n",
              "879          880  ...        Mrs. Thomas Jr (Lily Alexenia Wilson)\n",
              "887          888  ...                         Miss. Margaret Edith\n",
              "889          890  ...                              Mr. Karl Howell\n",
              "\n",
              "[183 rows x 13 columns]"
            ]
          },
          "metadata": {
            "tags": []
          },
          "execution_count": 10
        }
      ]
    },
    {
      "cell_type": "code",
      "metadata": {
        "colab": {
          "base_uri": "https://localhost:8080/"
        },
        "id": "Os2z1cs9RtDs",
        "outputId": "1f517fb8-591b-4cf7-c248-cc4d9ba4db93"
      },
      "source": [
        "titank[\"Survived\"].dtypes"
      ],
      "execution_count": null,
      "outputs": [
        {
          "output_type": "execute_result",
          "data": {
            "text/plain": [
              "dtype('int64')"
            ]
          },
          "metadata": {
            "tags": []
          },
          "execution_count": 15
        }
      ]
    },
    {
      "cell_type": "code",
      "metadata": {
        "colab": {
          "base_uri": "https://localhost:8080/"
        },
        "id": "3twKdnhhFwC0",
        "outputId": "4f4be6f0-998a-446e-ea8d-e2f0abc9bae0"
      },
      "source": [
        "print(titank.Survived == 1)\n"
      ],
      "execution_count": null,
      "outputs": [
        {
          "output_type": "stream",
          "text": [
            "1       True\n",
            "3       True\n",
            "6      False\n",
            "10      True\n",
            "11      True\n",
            "       ...  \n",
            "871     True\n",
            "872    False\n",
            "879     True\n",
            "887     True\n",
            "889     True\n",
            "Name: Survived, Length: 183, dtype: bool\n"
          ],
          "name": "stdout"
        }
      ]
    },
    {
      "cell_type": "code",
      "metadata": {
        "colab": {
          "base_uri": "https://localhost:8080/"
        },
        "id": "HadMUeWtG73Y",
        "outputId": "edd6d13d-a657-4d98-ad37-4e3ac65feb49"
      },
      "source": [
        "print(titank[titank.Survived == 1])\n"
      ],
      "execution_count": null,
      "outputs": [
        {
          "output_type": "stream",
          "text": [
            "     PassengerId  ...                                           wife\n",
            "1              2  ...     Mrs. John Bradley (Florence Briggs Thayer)\n",
            "3              4  ...             Mrs. Jacques Heath (Lily May Peel)\n",
            "10            11  ...                           Miss. Marguerite Rut\n",
            "11            12  ...                                Miss. Elizabeth\n",
            "21            22  ...                                   Mr. Lawrence\n",
            "..           ...  ...                                            ...\n",
            "862          863  ...   Mrs. Frederick Joel (Margaret Welles Barron)\n",
            "871          872  ...         Mrs. Richard Leonard (Sallie Monypeny)\n",
            "879          880  ...          Mrs. Thomas Jr (Lily Alexenia Wilson)\n",
            "887          888  ...                           Miss. Margaret Edith\n",
            "889          890  ...                                Mr. Karl Howell\n",
            "\n",
            "[123 rows x 13 columns]\n"
          ],
          "name": "stdout"
        }
      ]
    },
    {
      "cell_type": "code",
      "metadata": {
        "colab": {
          "base_uri": "https://localhost:8080/"
        },
        "id": "cg1iJgi3HpUM",
        "outputId": "e400423b-efb9-4ee2-a33f-1aa7352931e5"
      },
      "source": [
        "print(titank[titank.Survived == 1].shape[0])\n"
      ],
      "execution_count": null,
      "outputs": [
        {
          "output_type": "stream",
          "text": [
            "123\n"
          ],
          "name": "stdout"
        }
      ]
    },
    {
      "cell_type": "code",
      "metadata": {
        "colab": {
          "base_uri": "https://localhost:8080/"
        },
        "id": "VwyBhrMhH_kY",
        "outputId": "0310a569-9930-41c7-c998-a71ce85eecc8"
      },
      "source": [
        "print(\"The number of survivors:\",len(titank[titank['Survived'] == 1]))\n"
      ],
      "execution_count": null,
      "outputs": [
        {
          "output_type": "stream",
          "text": [
            "The number of survivors: 123\n"
          ],
          "name": "stdout"
        }
      ]
    },
    {
      "cell_type": "code",
      "metadata": {
        "colab": {
          "base_uri": "https://localhost:8080/"
        },
        "id": "TtGSGvLVIZfJ",
        "outputId": "8225e871-f2a9-4fbe-bf51-4c752ffc29f2"
      },
      "source": [
        "\n",
        "print(titank.Survived == 0)\n"
      ],
      "execution_count": null,
      "outputs": [
        {
          "output_type": "stream",
          "text": [
            "1      False\n",
            "3      False\n",
            "6       True\n",
            "10     False\n",
            "11     False\n",
            "       ...  \n",
            "871    False\n",
            "872     True\n",
            "879    False\n",
            "887    False\n",
            "889    False\n",
            "Name: Survived, Length: 183, dtype: bool\n"
          ],
          "name": "stdout"
        }
      ]
    },
    {
      "cell_type": "code",
      "metadata": {
        "colab": {
          "base_uri": "https://localhost:8080/"
        },
        "id": "DV3wDx80Nlvy",
        "outputId": "e38932e9-595f-45ce-e521-1b2e00ee95d4"
      },
      "source": [
        "print(titank[titank.Survived == 1])\n"
      ],
      "execution_count": null,
      "outputs": [
        {
          "output_type": "stream",
          "text": [
            "     PassengerId  ...                                           wife\n",
            "1              2  ...     Mrs. John Bradley (Florence Briggs Thayer)\n",
            "3              4  ...             Mrs. Jacques Heath (Lily May Peel)\n",
            "10            11  ...                           Miss. Marguerite Rut\n",
            "11            12  ...                                Miss. Elizabeth\n",
            "21            22  ...                                   Mr. Lawrence\n",
            "..           ...  ...                                            ...\n",
            "862          863  ...   Mrs. Frederick Joel (Margaret Welles Barron)\n",
            "871          872  ...         Mrs. Richard Leonard (Sallie Monypeny)\n",
            "879          880  ...          Mrs. Thomas Jr (Lily Alexenia Wilson)\n",
            "887          888  ...                           Miss. Margaret Edith\n",
            "889          890  ...                                Mr. Karl Howell\n",
            "\n",
            "[123 rows x 13 columns]\n"
          ],
          "name": "stdout"
        }
      ]
    },
    {
      "cell_type": "code",
      "metadata": {
        "colab": {
          "base_uri": "https://localhost:8080/"
        },
        "id": "MsbjBAEQNqdc",
        "outputId": "dec07e30-758a-430d-8fb1-ef9b10dc473a"
      },
      "source": [
        "print(titank[titank.Survived == 0].shape[0])\n"
      ],
      "execution_count": null,
      "outputs": [
        {
          "output_type": "stream",
          "text": [
            "60\n"
          ],
          "name": "stdout"
        }
      ]
    },
    {
      "cell_type": "code",
      "metadata": {
        "colab": {
          "base_uri": "https://localhost:8080/"
        },
        "id": "lU_RwANrN96_",
        "outputId": "698149e4-004c-4d34-87d1-082ba1dde1c9"
      },
      "source": [
        "print(\"The number of the deceased :\",len(titank[titank['Survived'] == 0]))\n"
      ],
      "execution_count": null,
      "outputs": [
        {
          "output_type": "stream",
          "text": [
            "The number of the deceased : 60\n"
          ],
          "name": "stdout"
        }
      ]
    },
    {
      "cell_type": "code",
      "metadata": {
        "colab": {
          "base_uri": "https://localhost:8080/"
        },
        "id": "uugvrgAWRdwd",
        "outputId": "c8739895-0939-44d9-f050-2899e83676bc"
      },
      "source": [
        "print(titank.Pclass == 1)\n",
        "print(titank[titank.Pclass == 1])\n",
        "print(titank[titank.Pclass == 1].shape[0])\n",
        "print(\"The number of passengers who have booked a first class ticket:\",len(titank[titank['Pclass'] == 1]))\n"
      ],
      "execution_count": null,
      "outputs": [
        {
          "output_type": "stream",
          "text": [
            "1       True\n",
            "3       True\n",
            "6       True\n",
            "10     False\n",
            "11      True\n",
            "       ...  \n",
            "871     True\n",
            "872     True\n",
            "879     True\n",
            "887     True\n",
            "889     True\n",
            "Name: Pclass, Length: 183, dtype: bool\n",
            "     PassengerId  ...                                         wife\n",
            "1              2  ...   Mrs. John Bradley (Florence Briggs Thayer)\n",
            "3              4  ...           Mrs. Jacques Heath (Lily May Peel)\n",
            "6              7  ...                                Mr. Timothy J\n",
            "11            12  ...                              Miss. Elizabeth\n",
            "23            24  ...                         Mr. William Thompson\n",
            "..           ...  ...                                          ...\n",
            "871          872  ...       Mrs. Richard Leonard (Sallie Monypeny)\n",
            "872          873  ...                               Mr. Frans Olof\n",
            "879          880  ...        Mrs. Thomas Jr (Lily Alexenia Wilson)\n",
            "887          888  ...                         Miss. Margaret Edith\n",
            "889          890  ...                              Mr. Karl Howell\n",
            "\n",
            "[158 rows x 13 columns]\n",
            "158\n",
            "The number of passengers who have booked a first class ticket: 158\n"
          ],
          "name": "stdout"
        }
      ]
    },
    {
      "cell_type": "code",
      "metadata": {
        "colab": {
          "base_uri": "https://localhost:8080/"
        },
        "id": "jeWZC0aYS4GS",
        "outputId": "15696462-b42b-4e82-e8b7-0da447f54a27"
      },
      "source": [
        "print(titank.Pclass == 2)\n",
        "print(titank[titank.Pclass == 2])\n",
        "print(titank[titank.Pclass == 2].shape[0])\n",
        "print(\"The number of passengers who have booked a first class ticket:\",len(titank[titank['Pclass'] == 2]))\n"
      ],
      "execution_count": null,
      "outputs": [
        {
          "output_type": "stream",
          "text": [
            "1      False\n",
            "3      False\n",
            "6      False\n",
            "10     False\n",
            "11     False\n",
            "       ...  \n",
            "871    False\n",
            "872    False\n",
            "879    False\n",
            "887    False\n",
            "889    False\n",
            "Name: Pclass, Length: 183, dtype: bool\n",
            "     PassengerId  Survived  ...   husband                                   wife\n",
            "21            22         1  ...   Beesley                           Mr. Lawrence\n",
            "66            67         1  ...       Nye                Mrs. (Elizabeth Ramell)\n",
            "123          124         1  ...    Webber                            Miss. Susan\n",
            "148          149         0  ...  Navratil         Mr. Michel (\"Louis M Hoffman\")\n",
            "183          184         1  ...    Becker                      Master. Richard F\n",
            "193          194         1  ...  Navratil                       Master. Michel M\n",
            "292          293         0  ...      Levy                       Mr. Rene Jacques\n",
            "327          328         1  ...      Ball                      Mrs. (Ada E Hall)\n",
            "340          341         1  ...  Navratil                   Master. Edmond Roger\n",
            "345          346         1  ...     Brown                 Miss. Amelia \"Mildred\"\n",
            "473          474         1  ...    Jerwan   Mrs. Amin S (Marie Marthe Thuillard)\n",
            "516          517         1  ...    Lemore                   Mrs. (Amelia Milley)\n",
            "618          619         1  ...    Becker                    Miss. Marion Louise\n",
            "717          718         1  ...    Troutt            Miss. Edwina Celia \"Winnie\"\n",
            "772          773         0  ...      Mack                            Mrs. (Mary)\n",
            "\n",
            "[15 rows x 13 columns]\n",
            "15\n",
            "The number of passengers who have booked a first class ticket: 15\n"
          ],
          "name": "stdout"
        }
      ]
    },
    {
      "cell_type": "code",
      "metadata": {
        "colab": {
          "base_uri": "https://localhost:8080/"
        },
        "id": "U3GRQJVLTABU",
        "outputId": "2f579349-517a-43d4-a2f7-96ceb95455c2"
      },
      "source": [
        "print(titank.Pclass == 3)\n",
        "print(titank[titank.Pclass == 3])\n",
        "print(titank[titank.Pclass == 3].shape[0])\n",
        "print(\"The number of passengers who have booked a first class ticket:\",len(titank[titank['Pclass'] == 3]))\n"
      ],
      "execution_count": null,
      "outputs": [
        {
          "output_type": "stream",
          "text": [
            "1      False\n",
            "3      False\n",
            "6      False\n",
            "10      True\n",
            "11     False\n",
            "       ...  \n",
            "871    False\n",
            "872    False\n",
            "879    False\n",
            "887    False\n",
            "889    False\n",
            "Name: Pclass, Length: 183, dtype: bool\n",
            "     PassengerId  ...                                       wife\n",
            "10            11  ...                       Miss. Marguerite Rut\n",
            "75            76  ...                          Mr. Sigurd Hansen\n",
            "205          206  ...                        Miss. Telma Matilda\n",
            "251          252  ...        Mrs. Wilhelm (Elna Matilda Persson)\n",
            "394          395  ...   Mrs. Hjalmar (Agnes Charlotta Bengtsson)\n",
            "429          430  ...                  Mr. Berk (Berk Trembisky)\n",
            "699          700  ...            Mr. Adolf Mathias Nicolai Olsen\n",
            "715          716  ...         Mr. Peter Andreas Lauritz Andersen\n",
            "751          752  ...                              Master. Meier\n",
            "823          824  ...                               Mrs. (Beila)\n",
            "\n",
            "[10 rows x 13 columns]\n",
            "10\n",
            "The number of passengers who have booked a first class ticket: 10\n"
          ],
          "name": "stdout"
        }
      ]
    },
    {
      "cell_type": "code",
      "metadata": {
        "colab": {
          "base_uri": "https://localhost:8080/",
          "height": 248
        },
        "id": "I6WT62QfTEo0",
        "outputId": "d10147ec-fbf9-48e2-a1f0-9329c730c520"
      },
      "source": [
        "titank[\"Survived\"].value_counts().plot.pie()\n",
        "plt.gca().set_aspect(\"equal\")"
      ],
      "execution_count": null,
      "outputs": [
        {
          "output_type": "display_data",
          "data": {
            "image/png": "[encoded data removed]",
            "text/plain": [
              "<Figure size 432x288 with 1 Axes>"
            ]
          },
          "metadata": {
            "tags": []
          }
        }
      ]
    },
    {
      "cell_type": "code",
      "metadata": {
        "colab": {
          "base_uri": "https://localhost:8080/",
          "height": 248
        },
        "id": "nVg9XfA2XGNO",
        "outputId": "38af2718-a6f8-4e24-90fc-b00122a46863"
      },
      "source": [
        "titank[\"Sex\"].value_counts().plot.pie()\n",
        "plt.gca().set_aspect(\"equal\")"
      ],
      "execution_count": null,
      "outputs": [
        {
          "output_type": "display_data",
          "data": {
            "image/png": "[encoded data removed]",
            "text/plain": [
              "<Figure size 432x288 with 1 Axes>"
            ]
          },
          "metadata": {
            "tags": []
          }
        }
      ]
    },
    {
      "cell_type": "code",
      "metadata": {
        "colab": {
          "base_uri": "https://localhost:8080/"
        },
        "id": "l6Ebz5YBdWAi",
        "outputId": "a7abba42-1d30-4684-da54-332dfa908aae"
      },
      "source": [
        "print(\"The average age of the women on board:\",titank.loc[titank['Sex'] == \"male\", 'Age'].mean())"
      ],
      "execution_count": null,
      "outputs": [
        {
          "output_type": "stream",
          "text": [
            "The average age of the women on board: 38.45178947368421\n"
          ],
          "name": "stdout"
        }
      ]
    },
    {
      "cell_type": "code",
      "metadata": {
        "colab": {
          "base_uri": "https://localhost:8080/"
        },
        "id": "oN5trFzoABh-",
        "outputId": "ff98ba56-6dbe-46e6-fa69-4f6c69152d2a"
      },
      "source": [
        "print(\"The average age of the men on board:\",titank.loc[titank['Sex'] == \"female\", 'Age'].mean())"
      ],
      "execution_count": null,
      "outputs": [
        {
          "output_type": "stream",
          "text": [
            "The average age of the men on board: 32.67613636363637\n"
          ],
          "name": "stdout"
        }
      ]
    },
    {
      "cell_type": "code",
      "metadata": {
        "colab": {
          "base_uri": "https://localhost:8080/"
        },
        "id": "J73oFHWhCIQ7",
        "outputId": "74e715e8-d940-4ca0-f07a-6999757c3fa5"
      },
      "source": [
        "print(titank.Embarked == \"S\")\n",
        "print(titank[titank.Embarked == \"S\"])\n",
        "print(titank[titank.Embarked == \"S\"].shape[0])\n",
        "print(\"The state is the most widespread on the ship:\",len(titank[titank['Embarked'] == \"S\"]))\n"
      ],
      "execution_count": null,
      "outputs": [
        {
          "output_type": "stream",
          "text": [
            "1      False\n",
            "3       True\n",
            "6       True\n",
            "10      True\n",
            "11      True\n",
            "       ...  \n",
            "871     True\n",
            "872     True\n",
            "879    False\n",
            "887     True\n",
            "889    False\n",
            "Name: Embarked, Length: 183, dtype: bool\n",
            "     PassengerId  ...                                           wife\n",
            "3              4  ...             Mrs. Jacques Heath (Lily May Peel)\n",
            "6              7  ...                                  Mr. Timothy J\n",
            "10            11  ...                           Miss. Marguerite Rut\n",
            "11            12  ...                                Miss. Elizabeth\n",
            "21            22  ...                                   Mr. Lawrence\n",
            "..           ...  ...                                            ...\n",
            "862          863  ...   Mrs. Frederick Joel (Margaret Welles Barron)\n",
            "867          868  ...                     Mr. Washington Augustus II\n",
            "871          872  ...         Mrs. Richard Leonard (Sallie Monypeny)\n",
            "872          873  ...                                 Mr. Frans Olof\n",
            "887          888  ...                           Miss. Margaret Edith\n",
            "\n",
            "[116 rows x 13 columns]\n",
            "116\n",
            "The state is the most widespread on the ship: 116\n"
          ],
          "name": "stdout"
        }
      ]
    },
    {
      "cell_type": "code",
      "metadata": {
        "colab": {
          "base_uri": "https://localhost:8080/"
        },
        "id": "K4SAkiP2Csgh",
        "outputId": "43df1810-f022-4129-fd1d-73ba4dce2c27"
      },
      "source": [
        "print(titank.Embarked == \"C\")\n",
        "print(titank[titank.Embarked == \"C\"])\n",
        "print(titank[titank.Embarked == \"C\"].shape[0])\n",
        "print(\"The state is the most widespread on the ship:\",len(titank[titank['Embarked'] == \"C\"]))\n"
      ],
      "execution_count": null,
      "outputs": [
        {
          "output_type": "stream",
          "text": [
            "1       True\n",
            "3      False\n",
            "6      False\n",
            "10     False\n",
            "11     False\n",
            "       ...  \n",
            "871    False\n",
            "872    False\n",
            "879     True\n",
            "887    False\n",
            "889     True\n",
            "Name: Embarked, Length: 183, dtype: bool\n",
            "     PassengerId  ...                                         wife\n",
            "1              2  ...   Mrs. John Bradley (Florence Briggs Thayer)\n",
            "52            53  ...             Mrs. Henry Sleeper (Myna Haxtun)\n",
            "54            55  ...                      Mr. Engelhart Cornelius\n",
            "96            97  ...                                 Mr. George B\n",
            "97            98  ...                          Mr. William Bertram\n",
            "..           ...  ...                                          ...\n",
            "742          743  ...                 Miss. Susan Parker \"Suzette\"\n",
            "789          790  ...                                 Mr. Benjamin\n",
            "835          836  ...                           Miss. Sara Rebecca\n",
            "879          880  ...        Mrs. Thomas Jr (Lily Alexenia Wilson)\n",
            "889          890  ...                              Mr. Karl Howell\n",
            "\n",
            "[65 rows x 13 columns]\n",
            "65\n",
            "The state is the most widespread on the ship: 65\n"
          ],
          "name": "stdout"
        }
      ]
    },
    {
      "cell_type": "code",
      "metadata": {
        "colab": {
          "base_uri": "https://localhost:8080/"
        },
        "id": "30cnwSSwC7S8",
        "outputId": "906ea767-38e5-438a-9b82-f92795767de6"
      },
      "source": [
        "print(titank.Embarked == \"Q\")\n",
        "print(titank[titank.Embarked == \"Q\"])\n",
        "print(titank[titank.Embarked == \"Q\"].shape[0])\n",
        "print(\"The state is the most widespread on the ship:\",len(titank[titank['Embarked'] == \"Q\"]))\n"
      ],
      "execution_count": null,
      "outputs": [
        {
          "output_type": "stream",
          "text": [
            "1      False\n",
            "3      False\n",
            "6      False\n",
            "10     False\n",
            "11     False\n",
            "       ...  \n",
            "871    False\n",
            "872    False\n",
            "879    False\n",
            "887    False\n",
            "889    False\n",
            "Name: Embarked, Length: 183, dtype: bool\n",
            "     PassengerId  Survived  Pclass  ... Embarked  husband                 wife\n",
            "245          246         0       1  ...        Q  Minahan   Dr. William Edward\n",
            "412          413         1       1  ...        Q  Minahan        Miss. Daisy E\n",
            "\n",
            "[2 rows x 13 columns]\n",
            "2\n",
            "The state is the most widespread on the ship: 2\n"
          ],
          "name": "stdout"
        }
      ]
    },
    {
      "cell_type": "code",
      "metadata": {
        "id": "5UFU28HGD2Vg",
        "colab": {
          "base_uri": "https://localhost:8080/",
          "height": 248
        },
        "outputId": "e46b7e85-8c20-4e51-8376-8b9a618e0bd4"
      },
      "source": [
        "titank[\"Pclass\"].value_counts().plot.pie()\n",
        "plt.gca().set_aspect(\"equal\")"
      ],
      "execution_count": null,
      "outputs": [
        {
          "output_type": "display_data",
          "data": {
            "image/png": "[encoded data removed]",
            "text/plain": [
              "<Figure size 432x288 with 1 Axes>"
            ]
          },
          "metadata": {
            "tags": []
          }
        }
      ]
    },
    {
      "cell_type": "code",
      "metadata": {
        "id": "I0hNfvX-NA1d"
      },
      "source": [
        ""
      ],
      "execution_count": null,
      "outputs": []
    }
  ]
}